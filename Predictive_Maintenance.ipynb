{
  "cells": [
    {
      "cell_type": "code",
      "execution_count": null,
      "metadata": {
        "id": "XYXmvjDk54Bl"
      },
      "outputs": [],
      "source": [
        "import pandas as pd\n",
        "import numpy as np\n",
        "import matplotlib.pyplot as plt\n",
        "import keras\n",
        "import os\n",
        "from sklearn import preprocessing"
      ]
    },
    {
      "cell_type": "code",
      "execution_count": null,
      "metadata": {
        "id": "B13TkK-9i9g0"
      },
      "outputs": [],
      "source": [
        "import keras\n",
        "import keras.backend as K\n",
        "from keras.layers import Activation\n",
        "from keras.models import Sequential, load_model\n",
        "from keras.layers import Dense, Dropout, LSTM"
      ]
    },
    {
      "cell_type": "code",
      "execution_count": null,
      "metadata": {
        "id": "wOagBfIMRpzk"
      },
      "outputs": [],
      "source": [
        "model_path = '/content/regression_model.h5'"
      ]
    },
    {
      "cell_type": "code",
      "execution_count": null,
      "metadata": {
        "id": "D7bzoyiDS0gA"
      },
      "outputs": [],
      "source": [
        "train = pd.read_csv('/content/PM_train.txt', sep=\" \", header=None)\n",
        "train.drop(train.columns[[26, 27]], axis=1, inplace=True)\n",
        "train.columns = ['id', 'cycle', 'setting1', 'setting2', 'setting3', 's1', 's2', 's3',\n",
        "                     's4', 's5', 's6', 's7', 's8', 's9', 's10', 's11', 's12', 's13', 's14',\n",
        "                     's15', 's16', 's17', 's18', 's19', 's20', 's21']"
      ]
    },
    {
      "cell_type": "code",
      "execution_count": null,
      "metadata": {
        "id": "tmhnNwL1S0ND"
      },
      "outputs": [],
      "source": [
        "train = train.sort_values(['id','cycle'])"
      ]
    },
    {
      "cell_type": "code",
      "execution_count": null,
      "metadata": {
        "id": "pW6dSV7nhsIR"
      },
      "outputs": [],
      "source": [
        "test = pd.read_csv('/content/PM_test.txt', sep=\" \", header=None)\n",
        "test.drop(test.columns[[26, 27]], axis=1, inplace=True)\n",
        "test.columns = ['id', 'cycle', 'setting1', 'setting2', 'setting3', 's1', 's2', 's3',\n",
        "                     's4', 's5', 's6', 's7', 's8', 's9', 's10', 's11', 's12', 's13', 's14',\n",
        "                     's15', 's16', 's17', 's18', 's19', 's20', 's21']"
      ]
    },
    {
      "cell_type": "code",
      "execution_count": null,
      "metadata": {
        "id": "hGHU7NzFiB9C"
      },
      "outputs": [],
      "source": [
        "truth = pd.read_csv('/content/PM_truth.txt', sep=\" \", header=None)\n",
        "truth.drop(truth.columns[[1]], axis=1, inplace=True)"
      ]
    },
    {
      "cell_type": "code",
      "execution_count": null,
      "metadata": {
        "id": "hg1a0z3Qmx2L"
      },
      "outputs": [],
      "source": [
        "rul = pd.DataFrame(train.groupby('id')['cycle'].max()).reset_index()\n",
        "rul.columns = ['id', 'max']\n",
        "train = train.merge(rul, on=['id'], how='left')\n",
        "train['RUL'] = train['max'] - train['cycle']\n",
        "train.drop('max', axis=1, inplace=True)"
      ]
    },
    {
      "cell_type": "code",
      "execution_count": null,
      "metadata": {
        "id": "kUvj0heondo1"
      },
      "outputs": [],
      "source": [
        "w1 = 30\n",
        "w0 = 15\n",
        "train['label1'] = np.where(train['RUL'] <= w1, 1, 0 )\n",
        "train['label2'] = train['label1']\n",
        "train.loc[train['RUL'] <= w0, 'label2'] = 2"
      ]
    },
    {
      "cell_type": "code",
      "execution_count": null,
      "metadata": {
        "id": "UCDkhe4bpdX6"
      },
      "outputs": [],
      "source": [
        "train['cycle_norm'] = train['cycle']"
      ]
    },
    {
      "cell_type": "code",
      "execution_count": null,
      "metadata": {
        "id": "ObgaxPStpIlF"
      },
      "outputs": [],
      "source": [
        "cols_normalize = train.columns.difference(['id','cycle','RUL','label1','label2'])\n",
        "min_max_scaler = preprocessing.MinMaxScaler()\n",
        "norm_train = pd.DataFrame(min_max_scaler.fit_transform(train[cols_normalize]), columns=cols_normalize, index=train.index)\n",
        "join_df = train[train.columns.difference(cols_normalize)].join(norm_train)\n",
        "train = join_df.reindex(columns = train.columns)"
      ]
    },
    {
      "cell_type": "code",
      "execution_count": null,
      "metadata": {
        "id": "EULEebnIqBDs"
      },
      "outputs": [],
      "source": [
        "test['cycle_norm'] = test['cycle']"
      ]
    },
    {
      "cell_type": "code",
      "execution_count": null,
      "metadata": {
        "colab": {
          "base_uri": "https://localhost:8080/"
        },
        "id": "du7lhRVofmQu",
        "outputId": "90818314-5bcb-42bb-d909-01ce871bdf07"
      },
      "outputs": [
        {
          "output_type": "stream",
          "name": "stdout",
          "text": [
            "   id  cycle  setting1  setting2  setting3   s1        s2        s3        s4  \\\n",
            "0   1      1  0.632184  0.750000       0.0  0.0  0.545181  0.310661  0.269413   \n",
            "1   1      2  0.344828  0.250000       0.0  0.0  0.150602  0.379551  0.222316   \n",
            "2   1      3  0.517241  0.583333       0.0  0.0  0.376506  0.346632  0.322248   \n",
            "3   1      4  0.741379  0.500000       0.0  0.0  0.370482  0.285154  0.408001   \n",
            "4   1      5  0.580460  0.500000       0.0  0.0  0.391566  0.352082  0.332039   \n",
            "\n",
            "    s5  ...       s13       s14       s15  s16       s17  s18  s19       s20  \\\n",
            "0  0.0  ...  0.220588  0.132160  0.308965  0.0  0.333333  0.0  0.0  0.558140   \n",
            "1  0.0  ...  0.264706  0.204768  0.213159  0.0  0.416667  0.0  0.0  0.682171   \n",
            "2  0.0  ...  0.220588  0.155640  0.458638  0.0  0.416667  0.0  0.0  0.728682   \n",
            "3  0.0  ...  0.250000  0.170090  0.257022  0.0  0.250000  0.0  0.0  0.666667   \n",
            "4  0.0  ...  0.220588  0.152751  0.300885  0.0  0.166667  0.0  0.0  0.658915   \n",
            "\n",
            "        s21  cycle_norm  \n",
            "0  0.661834     0.00000  \n",
            "1  0.686827     0.00277  \n",
            "2  0.721348     0.00554  \n",
            "3  0.662110     0.00831  \n",
            "4  0.716377     0.01108  \n",
            "\n",
            "[5 rows x 27 columns]\n"
          ]
        }
      ],
      "source": [
        "norm_test = pd.DataFrame(min_max_scaler.transform(test[cols_normalize]), columns=cols_normalize, index=test.index)\n",
        "test_join = test[test.columns.difference(cols_normalize)].join(norm_test)\n",
        "test = test_join.reindex(columns = test.columns)\n",
        "test = test.reset_index(drop=True)\n",
        "print(test.head())"
      ]
    },
    {
      "cell_type": "code",
      "execution_count": null,
      "metadata": {
        "id": "FoiNHy08gMmD"
      },
      "outputs": [],
      "source": [
        "rul = pd.DataFrame(test.groupby('id')['cycle'].max()).reset_index()\n",
        "rul.columns = ['id', 'max']\n",
        "truth.columns = ['more']\n",
        "truth['id'] = truth.index + 1\n",
        "truth['max'] = rul['max'] + truth['more']\n",
        "truth.drop('more', axis=1, inplace=True)"
      ]
    },
    {
      "cell_type": "code",
      "execution_count": null,
      "metadata": {
        "id": "GtGrhyYLgt9z"
      },
      "outputs": [],
      "source": [
        "test = test.merge(truth, on=['id'], how='left')\n",
        "test['RUL'] = test['max'] - test['cycle']\n",
        "test.drop('max', axis=1, inplace=True)"
      ]
    },
    {
      "cell_type": "code",
      "execution_count": null,
      "metadata": {
        "id": "RCo96kUthJT2"
      },
      "outputs": [],
      "source": [
        "test['label1'] = np.where(test['RUL'] <= w1, 1, 0 )\n",
        "test['label2'] = test['label1']\n",
        "test.loc[test['RUL'] <= w0, 'label2'] = 2"
      ]
    },
    {
      "cell_type": "code",
      "execution_count": null,
      "metadata": {
        "id": "3xFNv1FDhSzk"
      },
      "outputs": [],
      "source": [
        "sequence_length = 50"
      ]
    },
    {
      "cell_type": "code",
      "execution_count": null,
      "metadata": {
        "id": "N7ICpeKPhV8s"
      },
      "outputs": [],
      "source": [
        "def gen_sequence(id, seq_length, seq_cols):\n",
        "  data_matrix = id[seq_cols].values\n",
        "  num_elements = data_matrix.shape[0]\n",
        "  for start, stop in zip(range(0, num_elements-seq_length), range(seq_length, num_elements)):\n",
        "    yield data_matrix[start:stop, :]"
      ]
    },
    {
      "cell_type": "code",
      "execution_count": null,
      "metadata": {
        "id": "Qhcrm1wckIcn"
      },
      "outputs": [],
      "source": [
        "sensor_cols= ['s' + str(i) for i in range(1,22)]\n",
        "sequence_cols = ['setting1', 'setting2', 'setting3', 'cycle_norm']\n",
        "sequence_cols.extend(sensor_cols)"
      ]
    },
    {
      "cell_type": "code",
      "execution_count": null,
      "metadata": {
        "colab": {
          "base_uri": "https://localhost:8080/"
        },
        "id": "gtm6tvhroHkV",
        "outputId": "8ab83486-bbc2-4681-d8de-9da9bfc7133c"
      },
      "outputs": [
        {
          "output_type": "stream",
          "name": "stdout",
          "text": [
            "142\n"
          ]
        }
      ],
      "source": [
        "val=list(gen_sequence(train[train['id']==1], sequence_length, sequence_cols))\n",
        "print(len(val))"
      ]
    },
    {
      "cell_type": "code",
      "execution_count": null,
      "metadata": {
        "id": "xRfGNPIi2cA8"
      },
      "outputs": [],
      "source": [
        "seq_gen = (list(gen_sequence(train[train['id']==id], sequence_length, sequence_cols))\n",
        "for id in train['id'].unique())"
      ]
    },
    {
      "cell_type": "code",
      "execution_count": null,
      "metadata": {
        "colab": {
          "base_uri": "https://localhost:8080/"
        },
        "id": "fn-xGoq02-qm",
        "outputId": "c6690313-c055-44a2-9406-a2cafa2a8de3"
      },
      "outputs": [
        {
          "output_type": "stream",
          "name": "stdout",
          "text": [
            "(15631, 50, 25)\n"
          ]
        }
      ],
      "source": [
        "seq_array = np.concatenate(list(seq_gen)).astype(np.float32)\n",
        "print(seq_array.shape)"
      ]
    },
    {
      "cell_type": "code",
      "execution_count": null,
      "metadata": {
        "id": "vWiAsPGK3lRU"
      },
      "outputs": [],
      "source": [
        "def gen_labels(id, seq_length, label):\n",
        "  data_matrix = id[label].values\n",
        "  num_elements = data_matrix.shape[0]\n",
        "  return data_matrix[seq_length:num_elements, :]"
      ]
    },
    {
      "cell_type": "code",
      "execution_count": null,
      "metadata": {
        "id": "lpQMKr1I50L-"
      },
      "outputs": [],
      "source": [
        "label_gen = [gen_labels(train[train['id']==id], sequence_length, ['RUL'])\n",
        "for id in train['id'].unique()]"
      ]
    },
    {
      "cell_type": "code",
      "execution_count": null,
      "metadata": {
        "colab": {
          "base_uri": "https://localhost:8080/"
        },
        "id": "fdWlvyQg7Ed0",
        "outputId": "3b5995aa-26e4-4fd6-f2a4-d9f7152730ee"
      },
      "outputs": [
        {
          "output_type": "execute_result",
          "data": {
            "text/plain": [
              "(15631, 1)"
            ]
          },
          "metadata": {},
          "execution_count": 25
        }
      ],
      "source": [
        "label_array = np.concatenate(label_gen).astype(np.float32)\n",
        "label_array.shape"
      ]
    },
    {
      "cell_type": "code",
      "execution_count": null,
      "metadata": {
        "id": "Ybmh36-d8JFq"
      },
      "outputs": [],
      "source": [
        "def r2_keras(y_true, y_pred):\n",
        "    SS_res =  K.sum(K.square( y_true - y_pred ))\n",
        "    SS_tot = K.sum(K.square( y_true - K.mean(y_true) ) )\n",
        "    return ( 1 - SS_res/(SS_tot + K.epsilon()) )"
      ]
    },
    {
      "cell_type": "code",
      "execution_count": null,
      "metadata": {
        "id": "fASQB2-48QFd"
      },
      "outputs": [],
      "source": [
        "nb_features = seq_array.shape[2]\n",
        "nb_out = label_array.shape[1]"
      ]
    },
    {
      "cell_type": "code",
      "execution_count": null,
      "metadata": {
        "id": "_TWALLNK_J5Q"
      },
      "outputs": [],
      "source": [
        "model=Sequential()"
      ]
    },
    {
      "cell_type": "code",
      "execution_count": null,
      "metadata": {
        "id": "SZ3GLzCz_Rnp"
      },
      "outputs": [],
      "source": [
        "model.add(LSTM(input_shape=(sequence_length, nb_features), units=100, return_sequences=True))\n",
        "model.add(Dropout(0.2))\n",
        "model.add(LSTM(units=50, return_sequences=False))\n",
        "model.add(Dropout(0.2))\n",
        "model.add(Dense(units=nb_out))\n",
        "model.add(Activation(\"linear\"))\n",
        "model.compile(loss='mean_squared_error', optimizer='rmsprop', metrics=['mae', r2_keras])"
      ]
    },
    {
      "cell_type": "code",
      "execution_count": null,
      "metadata": {
        "colab": {
          "base_uri": "https://localhost:8080/"
        },
        "id": "KUrH76KzccR_",
        "outputId": "1ecb4286-9d1f-4019-fa09-1122b94ec840"
      },
      "outputs": [
        {
          "output_type": "stream",
          "name": "stdout",
          "text": [
            "Model: \"sequential\"\n",
            "_________________________________________________________________\n",
            " Layer (type)                Output Shape              Param #   \n",
            "=================================================================\n",
            " lstm (LSTM)                 (None, 50, 100)           50400     \n",
            "                                                                 \n",
            " dropout (Dropout)           (None, 50, 100)           0         \n",
            "                                                                 \n",
            " lstm_1 (LSTM)               (None, 50)                30200     \n",
            "                                                                 \n",
            " dropout_1 (Dropout)         (None, 50)                0         \n",
            "                                                                 \n",
            " dense (Dense)               (None, 1)                 51        \n",
            "                                                                 \n",
            " activation (Activation)     (None, 1)                 0         \n",
            "                                                                 \n",
            "=================================================================\n",
            "Total params: 80651 (315.04 KB)\n",
            "Trainable params: 80651 (315.04 KB)\n",
            "Non-trainable params: 0 (0.00 Byte)\n",
            "_________________________________________________________________\n",
            "None\n"
          ]
        }
      ],
      "source": [
        "print(model.summary())"
      ]
    },
    {
      "cell_type": "code",
      "execution_count": null,
      "metadata": {
        "colab": {
          "base_uri": "https://localhost:8080/"
        },
        "id": "WQGqyXYxdNkv",
        "outputId": "17e571ee-0b63-438c-975d-472ab76e172f"
      },
      "outputs": [
        {
          "output_type": "stream",
          "name": "stdout",
          "text": [
            "Epoch 1/100\n",
            "75/75 [==============================] - 40s 428ms/step - loss: 8817.3701 - mae: 75.1986 - r2_keras: -1.7159 - val_loss: 8231.5098 - val_mae: 72.2995 - val_r2_keras: -2.4622\n",
            "Epoch 2/100\n"
          ]
        },
        {
          "output_type": "stream",
          "name": "stderr",
          "text": [
            "/usr/local/lib/python3.10/dist-packages/keras/src/engine/training.py:3000: UserWarning: You are saving your model as an HDF5 file via `model.save()`. This file format is considered legacy. We recommend using instead the native Keras format, e.g. `model.save('my_model.keras')`.\n",
            "  saving_api.save_model(\n"
          ]
        },
        {
          "output_type": "stream",
          "name": "stdout",
          "text": [
            "75/75 [==============================] - 17s 230ms/step - loss: 8137.4072 - mae: 71.2447 - r2_keras: -1.5092 - val_loss: 7703.0698 - val_mae: 69.2296 - val_r2_keras: -2.2126\n",
            "Epoch 3/100\n",
            "75/75 [==============================] - 17s 228ms/step - loss: 7628.6655 - mae: 68.3212 - r2_keras: -1.3491 - val_loss: 7207.3774 - val_mae: 66.3663 - val_r2_keras: -1.9803\n",
            "Epoch 4/100\n",
            "75/75 [==============================] - 17s 225ms/step - loss: 7138.8706 - mae: 65.5538 - r2_keras: -1.1986 - val_loss: 6741.5786 - val_mae: 63.6928 - val_r2_keras: -1.7640\n",
            "Epoch 5/100\n",
            "75/75 [==============================] - 17s 233ms/step - loss: 6685.2256 - mae: 62.9523 - r2_keras: -1.0563 - val_loss: 6303.2793 - val_mae: 61.1952 - val_r2_keras: -1.5626\n",
            "Epoch 6/100\n",
            "75/75 [==============================] - 17s 222ms/step - loss: 6257.5176 - mae: 60.5505 - r2_keras: -0.9316 - val_loss: 5892.7197 - val_mae: 58.8775 - val_r2_keras: -1.3762\n",
            "Epoch 7/100\n",
            "75/75 [==============================] - 19s 250ms/step - loss: 5865.3394 - mae: 58.3858 - r2_keras: -0.8044 - val_loss: 5514.7275 - val_mae: 56.7647 - val_r2_keras: -1.2069\n",
            "Epoch 8/100\n",
            "75/75 [==============================] - 18s 241ms/step - loss: 5493.6362 - mae: 56.3023 - r2_keras: -0.6869 - val_loss: 5164.1704 - val_mae: 54.8273 - val_r2_keras: -1.0525\n",
            "Epoch 9/100\n",
            "75/75 [==============================] - 17s 222ms/step - loss: 5153.9590 - mae: 54.5012 - r2_keras: -0.5876 - val_loss: 4841.4507 - val_mae: 53.0677 - val_r2_keras: -0.9131\n",
            "Epoch 10/100\n",
            "75/75 [==============================] - 17s 222ms/step - loss: 4841.2451 - mae: 52.8046 - r2_keras: -0.4906 - val_loss: 4546.9502 - val_mae: 51.4896 - val_r2_keras: -0.7888\n",
            "Epoch 11/100\n",
            "75/75 [==============================] - 18s 242ms/step - loss: 4567.8418 - mae: 51.3905 - r2_keras: -0.4011 - val_loss: 4284.6040 - val_mae: 50.1135 - val_r2_keras: -0.6814\n",
            "Epoch 12/100\n",
            "75/75 [==============================] - 17s 223ms/step - loss: 4309.6880 - mae: 50.0903 - r2_keras: -0.3232 - val_loss: 4049.0217 - val_mae: 48.9087 - val_r2_keras: -0.5885\n",
            "Epoch 13/100\n",
            "75/75 [==============================] - 17s 223ms/step - loss: 4085.5508 - mae: 48.9150 - r2_keras: -0.2568 - val_loss: 3842.1138 - val_mae: 47.8851 - val_r2_keras: -0.5108\n",
            "Epoch 14/100\n",
            "75/75 [==============================] - 18s 238ms/step - loss: 3894.3469 - mae: 48.0300 - r2_keras: -0.2005 - val_loss: 3663.9380 - val_mae: 47.0451 - val_r2_keras: -0.4484\n",
            "Epoch 15/100\n",
            "75/75 [==============================] - 17s 226ms/step - loss: 3734.0710 - mae: 47.3472 - r2_keras: -0.1478 - val_loss: 3517.5166 - val_mae: 46.3978 - val_r2_keras: -0.4020\n",
            "Epoch 16/100\n",
            "75/75 [==============================] - 17s 232ms/step - loss: 3591.6101 - mae: 46.7325 - r2_keras: -0.1018 - val_loss: 3394.6221 - val_mae: 45.9051 - val_r2_keras: -0.3688\n",
            "Epoch 17/100\n",
            "75/75 [==============================] - 17s 228ms/step - loss: 3492.0044 - mae: 46.4442 - r2_keras: -0.0734 - val_loss: 3302.9211 - val_mae: 45.5977 - val_r2_keras: -0.3505\n",
            "Epoch 18/100\n",
            "75/75 [==============================] - 17s 222ms/step - loss: 3401.0774 - mae: 46.1258 - r2_keras: -0.0444 - val_loss: 3234.3650 - val_mae: 45.4386 - val_r2_keras: -0.3450\n",
            "Epoch 19/100\n",
            "75/75 [==============================] - 18s 241ms/step - loss: 3354.5625 - mae: 46.0562 - r2_keras: -0.0314 - val_loss: 3196.5493 - val_mae: 45.4236 - val_r2_keras: -0.3499\n",
            "Epoch 20/100\n",
            "75/75 [==============================] - 17s 222ms/step - loss: 3322.4346 - mae: 46.1551 - r2_keras: -0.0235 - val_loss: 3176.6584 - val_mae: 45.4884 - val_r2_keras: -0.3608\n",
            "Epoch 21/100\n",
            "75/75 [==============================] - 17s 222ms/step - loss: 3320.1851 - mae: 46.3022 - r2_keras: -0.0221 - val_loss: 3170.0559 - val_mae: 45.5674 - val_r2_keras: -0.3706\n",
            "Epoch 22/100\n",
            "75/75 [==============================] - 18s 241ms/step - loss: 3314.8010 - mae: 46.3617 - r2_keras: -0.0204 - val_loss: 3168.4219 - val_mae: 45.6158 - val_r2_keras: -0.3764\n",
            "Epoch 23/100\n",
            "75/75 [==============================] - 17s 227ms/step - loss: 3294.9573 - mae: 46.2774 - r2_keras: -0.0134 - val_loss: 3167.8691 - val_mae: 45.6639 - val_r2_keras: -0.3819\n",
            "Epoch 24/100\n",
            "75/75 [==============================] - 17s 226ms/step - loss: 3300.9888 - mae: 46.3834 - r2_keras: -0.0148 - val_loss: 3167.8594 - val_mae: 45.6733 - val_r2_keras: -0.3830\n",
            "Epoch 25/100\n",
            "75/75 [==============================] - 18s 238ms/step - loss: 3309.1543 - mae: 46.4088 - r2_keras: -0.0166 - val_loss: 3167.8728 - val_mae: 45.6819 - val_r2_keras: -0.3839\n",
            "Epoch 26/100\n",
            "75/75 [==============================] - 17s 221ms/step - loss: 3304.7900 - mae: 46.3842 - r2_keras: -0.0170 - val_loss: 3167.8591 - val_mae: 45.6718 - val_r2_keras: -0.3828\n",
            "Epoch 27/100\n",
            "75/75 [==============================] - 16s 220ms/step - loss: 3310.2134 - mae: 46.4080 - r2_keras: -0.0189 - val_loss: 3167.8613 - val_mae: 45.6758 - val_r2_keras: -0.3833\n",
            "Epoch 28/100\n",
            "75/75 [==============================] - 18s 236ms/step - loss: 3301.9460 - mae: 46.3564 - r2_keras: -0.0154 - val_loss: 3167.8772 - val_mae: 45.6834 - val_r2_keras: -0.3841\n",
            "Epoch 29/100\n",
            "75/75 [==============================] - 16s 220ms/step - loss: 3312.3606 - mae: 46.4273 - r2_keras: -0.0184 - val_loss: 3167.8594 - val_mae: 45.6733 - val_r2_keras: -0.3830\n",
            "Epoch 30/100\n",
            "75/75 [==============================] - 17s 224ms/step - loss: 3307.7480 - mae: 46.3504 - r2_keras: -0.0176 - val_loss: 3167.8645 - val_mae: 45.6659 - val_r2_keras: -0.3822\n",
            "Epoch 31/100\n",
            "75/75 [==============================] - 18s 240ms/step - loss: 3301.5371 - mae: 46.3059 - r2_keras: -0.0156 - val_loss: 3167.8718 - val_mae: 45.6630 - val_r2_keras: -0.3818\n",
            "Epoch 32/100\n",
            "75/75 [==============================] - 17s 223ms/step - loss: 3297.9968 - mae: 46.3136 - r2_keras: -0.0135 - val_loss: 3167.8877 - val_mae: 45.6588 - val_r2_keras: -0.3813\n",
            "Epoch 33/100\n",
            "75/75 [==============================] - 17s 225ms/step - loss: 3295.4189 - mae: 46.2558 - r2_keras: -0.0133 - val_loss: 3167.8640 - val_mae: 45.6660 - val_r2_keras: -0.3822\n",
            "Epoch 34/100\n",
            "75/75 [==============================] - 18s 233ms/step - loss: 3304.9385 - mae: 46.3593 - r2_keras: -0.0166 - val_loss: 3167.8616 - val_mae: 45.6677 - val_r2_keras: -0.3824\n",
            "Epoch 35/100\n",
            "75/75 [==============================] - 17s 222ms/step - loss: 3298.6799 - mae: 46.3426 - r2_keras: -0.0136 - val_loss: 3167.8699 - val_mae: 45.6808 - val_r2_keras: -0.3838\n",
            "Epoch 36/100\n",
            "75/75 [==============================] - 17s 220ms/step - loss: 3301.7222 - mae: 46.3597 - r2_keras: -0.0141 - val_loss: 3167.8706 - val_mae: 45.6810 - val_r2_keras: -0.3838\n"
          ]
        }
      ],
      "source": [
        "history = model.fit(seq_array, label_array, epochs=100, batch_size=200, validation_split=0.05, verbose=1, callbacks = [keras.callbacks.EarlyStopping(monitor='val_loss', min_delta=0, patience=10, verbose=0, mode='min'), keras.callbacks.ModelCheckpoint(model_path,monitor='val_loss', save_best_only=True, mode='min', verbose=0)])"
      ]
    },
    {
      "cell_type": "code",
      "execution_count": null,
      "metadata": {
        "colab": {
          "base_uri": "https://localhost:8080/"
        },
        "id": "uxbgl3OLfOQq",
        "outputId": "ddf6fcde-193b-4789-81fd-73efea44f6c9"
      },
      "outputs": [
        {
          "output_type": "execute_result",
          "data": {
            "text/plain": [
              "dict_keys(['loss', 'mae', 'r2_keras', 'val_loss', 'val_mae', 'val_r2_keras'])"
            ]
          },
          "metadata": {},
          "execution_count": 32
        }
      ],
      "source": [
        "history.history.keys()"
      ]
    },
    {
      "cell_type": "code",
      "execution_count": null,
      "metadata": {
        "colab": {
          "base_uri": "https://localhost:8080/",
          "height": 410
        },
        "id": "0xDnQwwEfTTW",
        "outputId": "3f50a2cc-c475-415b-9b0c-66681b1a679c"
      },
      "outputs": [
        {
          "output_type": "display_data",
          "data": {
            "text/plain": [
              "<Figure size 400x400 with 1 Axes>"
            ],
            "image/png": "[encoded data removed]"
          },
          "metadata": {}
        }
      ],
      "source": [
        "fig_acc = plt.figure(figsize=(4, 4))\n",
        "plt.plot(history.history['r2_keras'])\n",
        "plt.plot(history.history['val_r2_keras'])\n",
        "plt.title('model r^2')\n",
        "plt.ylabel('R^2')\n",
        "plt.xlabel('epoch')\n",
        "plt.legend(['train', 'test'], loc='upper left')\n",
        "plt.show()"
      ]
    },
    {
      "cell_type": "code",
      "execution_count": null,
      "metadata": {
        "colab": {
          "base_uri": "https://localhost:8080/",
          "height": 410
        },
        "id": "HiFUBTQBgzN9",
        "outputId": "edf38742-dfed-4189-a4c9-cd52311831c9"
      },
      "outputs": [
        {
          "output_type": "display_data",
          "data": {
            "text/plain": [
              "<Figure size 400x400 with 1 Axes>"
            ],
            "image/png": "[encoded data removed]"
          },
          "metadata": {}
        }
      ],
      "source": [
        "fig_acc = plt.figure(figsize=(4, 4))\n",
        "plt.plot(history.history['mae'])\n",
        "plt.plot(history.history['val_mae'])\n",
        "plt.title('model MAE')\n",
        "plt.ylabel('MAE')\n",
        "plt.xlabel('epoch')\n",
        "plt.legend(['train', 'test'], loc='upper left')\n",
        "plt.show()"
      ]
    },
    {
      "cell_type": "code",
      "execution_count": null,
      "metadata": {
        "colab": {
          "base_uri": "https://localhost:8080/",
          "height": 410
        },
        "id": "CAa952UdhBaj",
        "outputId": "e1ae2d85-62c1-457a-9866-77c61af0ff24"
      },
      "outputs": [
        {
          "output_type": "display_data",
          "data": {
            "text/plain": [
              "<Figure size 400x400 with 1 Axes>"
            ],
            "image/png": "[encoded data removed]"
          },
          "metadata": {}
        }
      ],
      "source": [
        "fig_acc = plt.figure(figsize=(4, 4))\n",
        "plt.plot(history.history['loss'])\n",
        "plt.plot(history.history['val_loss'])\n",
        "plt.title('model loss')\n",
        "plt.ylabel('loss')\n",
        "plt.xlabel('epoch')\n",
        "plt.legend(['train', 'test'], loc='upper left')\n",
        "plt.show()"
      ]
    },
    {
      "cell_type": "code",
      "execution_count": null,
      "metadata": {
        "colab": {
          "base_uri": "https://localhost:8080/"
        },
        "id": "9Li_PaFhh2u3",
        "outputId": "d6cf1f27-1aa6-4bb0-f319-65f593739055"
      },
      "outputs": [
        {
          "output_type": "stream",
          "name": "stdout",
          "text": [
            "79/79 [==============================] - 7s 82ms/step - loss: 3265.3259 - mae: 46.1428 - r2_keras: -1.0200\n",
            "\n",
            "MAE: 46.14284133911133\n",
            "\n",
            "R^2: -1.0200226306915283\n"
          ]
        }
      ],
      "source": [
        "scores = model.evaluate(seq_array, label_array, verbose=1, batch_size=200)\n",
        "print('\\nMAE: {}'.format(scores[1]))\n",
        "print('\\nR^2: {}'.format(scores[2]))"
      ]
    },
    {
      "cell_type": "code",
      "execution_count": null,
      "metadata": {
        "colab": {
          "base_uri": "https://localhost:8080/"
        },
        "id": "kYQqmgsGh8as",
        "outputId": "a68b0a83-bac2-4961-85fb-4e9636225e1f"
      },
      "outputs": [
        {
          "output_type": "stream",
          "name": "stdout",
          "text": [
            "79/79 [==============================] - 7s 82ms/step\n"
          ]
        }
      ],
      "source": [
        "y_pred = model.predict(seq_array,verbose=1, batch_size=200)\n",
        "y_true = label_array"
      ]
    },
    {
      "cell_type": "code",
      "execution_count": null,
      "metadata": {
        "id": "4GGs1PZCiAOX"
      },
      "outputs": [],
      "source": [
        "test_set = pd.DataFrame(y_pred)\n",
        "test_set.to_csv('/content/submit_train.csv', index = None)"
      ]
    },
    {
      "cell_type": "code",
      "execution_count": null,
      "metadata": {
        "id": "6AeOHE_0hUzD"
      },
      "outputs": [],
      "source": [
        "seq_array_test_last = [test[test['id']==id][sequence_cols].values[-sequence_length:]\n",
        "for id in test['id'].unique() if len(test[test['id']==id]) >= sequence_length]"
      ]
    },
    {
      "cell_type": "code",
      "execution_count": null,
      "metadata": {
        "id": "900NwcWMnaCY"
      },
      "outputs": [],
      "source": [
        "seq_array_test_last = np.asarray(seq_array_test_last).astype(np.float32)"
      ]
    },
    {
      "cell_type": "code",
      "execution_count": null,
      "metadata": {
        "colab": {
          "base_uri": "https://localhost:8080/"
        },
        "id": "5i4_Hm-BoRhR",
        "outputId": "c91d3184-aa77-4604-d1eb-afc56bb27a5e"
      },
      "outputs": [
        {
          "output_type": "stream",
          "name": "stdout",
          "text": [
            "seq_array_test_last\n"
          ]
        }
      ],
      "source": [
        "print(\"seq_array_test_last\")"
      ]
    },
    {
      "cell_type": "code",
      "execution_count": null,
      "metadata": {
        "colab": {
          "base_uri": "https://localhost:8080/"
        },
        "id": "KZoV7S9Xn1g2",
        "outputId": "65dbb9a9-2be6-4d66-e3e9-31277da3c0fb"
      },
      "outputs": [
        {
          "output_type": "execute_result",
          "data": {
            "text/plain": [
              "(93, 50, 25)"
            ]
          },
          "metadata": {},
          "execution_count": 42
        }
      ],
      "source": [
        "seq_array_test_last.shape"
      ]
    },
    {
      "cell_type": "code",
      "execution_count": null,
      "metadata": {
        "colab": {
          "base_uri": "https://localhost:8080/"
        },
        "id": "gKgMLv4WoDel",
        "outputId": "3d68228c-f2ad-4f11-d7f2-4c2156518f3b"
      },
      "outputs": [
        {
          "output_type": "stream",
          "name": "stdout",
          "text": [
            "(93, 1)\n",
            "label_array_test_last\n",
            "[[ 69.]\n",
            " [ 82.]\n",
            " [ 91.]\n",
            " [ 93.]\n",
            " [ 91.]\n",
            " [ 95.]\n",
            " [111.]\n",
            " [ 96.]\n",
            " [ 97.]\n",
            " [124.]\n",
            " [ 95.]\n",
            " [ 83.]\n",
            " [ 84.]\n",
            " [ 50.]\n",
            " [ 28.]\n",
            " [ 87.]\n",
            " [ 16.]\n",
            " [ 57.]\n",
            " [113.]\n",
            " [ 20.]\n",
            " [119.]\n",
            " [ 66.]\n",
            " [ 97.]\n",
            " [ 90.]\n",
            " [115.]\n",
            " [  8.]\n",
            " [ 48.]\n",
            " [106.]\n",
            " [  7.]\n",
            " [ 11.]\n",
            " [ 19.]\n",
            " [ 21.]\n",
            " [ 50.]\n",
            " [ 28.]\n",
            " [ 18.]\n",
            " [ 10.]\n",
            " [ 59.]\n",
            " [109.]\n",
            " [114.]\n",
            " [ 47.]\n",
            " [135.]\n",
            " [ 92.]\n",
            " [ 21.]\n",
            " [ 79.]\n",
            " [114.]\n",
            " [ 29.]\n",
            " [ 26.]\n",
            " [ 97.]\n",
            " [137.]\n",
            " [ 15.]\n",
            " [103.]\n",
            " [ 37.]\n",
            " [114.]\n",
            " [100.]\n",
            " [ 21.]\n",
            " [ 54.]\n",
            " [ 72.]\n",
            " [ 28.]\n",
            " [128.]\n",
            " [ 14.]\n",
            " [ 77.]\n",
            " [  8.]\n",
            " [121.]\n",
            " [ 94.]\n",
            " [118.]\n",
            " [ 50.]\n",
            " [131.]\n",
            " [126.]\n",
            " [113.]\n",
            " [ 10.]\n",
            " [ 34.]\n",
            " [107.]\n",
            " [ 63.]\n",
            " [ 90.]\n",
            " [  8.]\n",
            " [  9.]\n",
            " [137.]\n",
            " [ 58.]\n",
            " [ 89.]\n",
            " [116.]\n",
            " [115.]\n",
            " [136.]\n",
            " [ 28.]\n",
            " [ 38.]\n",
            " [ 20.]\n",
            " [ 85.]\n",
            " [ 55.]\n",
            " [128.]\n",
            " [137.]\n",
            " [ 82.]\n",
            " [ 59.]\n",
            " [117.]\n",
            " [ 20.]]\n"
          ]
        }
      ],
      "source": [
        "y_mask = [len(test[test['id']==id]) >= sequence_length for id in test['id'].unique()]\n",
        "label_array_test_last = test.groupby('id')['RUL'].nth(-1)[y_mask].values\n",
        "label_array_test_last = label_array_test_last.reshape(label_array_test_last.shape[0],1).astype(np.float32)\n",
        "print(label_array_test_last.shape)\n",
        "print(\"label_array_test_last\")\n",
        "print(label_array_test_last)"
      ]
    },
    {
      "cell_type": "code",
      "execution_count": null,
      "metadata": {
        "colab": {
          "base_uri": "https://localhost:8080/",
          "height": 591
        },
        "id": "5VSQ9jTjoWiG",
        "outputId": "2722db66-06c7-4521-e9b5-5d176a5b676f"
      },
      "outputs": [
        {
          "output_type": "stream",
          "name": "stdout",
          "text": [
            "3/3 - 1s - loss: 1821.9705 - mae: 35.9903 - r2_keras: -9.7619e-02 - 878ms/epoch - 293ms/step\n",
            "\n",
            "MAE: 35.990333557128906\n",
            "\n",
            "R^2: -0.09761929512023926\n",
            "3/3 [==============================] - 1s 17ms/step\n"
          ]
        },
        {
          "output_type": "display_data",
          "data": {
            "text/plain": [
              "<Figure size 800x500 with 1 Axes>"
            ],
            "image/png": "[encoded data removed]"
          },
          "metadata": {}
        }
      ],
      "source": [
        "if os.path.isfile(model_path):\n",
        "    estimator = load_model(model_path,custom_objects={'r2_keras': r2_keras})\n",
        "    scores_test = estimator.evaluate(seq_array_test_last, label_array_test_last, verbose=2)\n",
        "    print('\\nMAE: {}'.format(scores_test[1]))\n",
        "    print('\\nR^2: {}'.format(scores_test[2]))\n",
        "    y_pred_test = estimator.predict(seq_array_test_last)\n",
        "    y_true_test = label_array_test_last\n",
        "    test_set = pd.DataFrame(y_pred_test)\n",
        "    test_set.to_csv('/content/submit_test.csv', index = None)\n",
        "    fig_verify = plt.figure(figsize=(8, 5))\n",
        "    plt.plot(y_pred_test, color=\"blue\")\n",
        "    plt.plot(y_true_test, color=\"green\")\n",
        "    plt.title('prediction')\n",
        "    plt.ylabel('value')\n",
        "    plt.xlabel('row')\n",
        "    plt.legend(['predicted', 'actual data'], loc='upper left')\n",
        "    plt.show()"
      ]
    }
  ],
  "metadata": {
    "colab": {
      "provenance": []
    },
    "kernelspec": {
      "display_name": "Python 3",
      "name": "python3"
    },
    "language_info": {
      "name": "python"
    }
  },
  "nbformat": 4,
  "nbformat_minor": 0
}